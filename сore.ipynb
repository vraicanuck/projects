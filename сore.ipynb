{
 "cells": [
  {
   "cell_type": "markdown",
   "metadata": {
    "slideshow": {
     "slide_type": "slide"
    }
   },
   "source": [
    "# Import Libraries"
   ]
  },
  {
   "cell_type": "markdown",
   "metadata": {},
   "source": [
    "<div class=\"alert alert-success\">\n",
    "<h2> Комментарий</h2>\n",
    "\n",
    "Постарайся, чтобы имена столбцов у тебя были такие же, как и мои. \n",
    "У меня если в столбце более двух слов, я их разделял нижним подчеркиванием.\n",
    "Я сохраню таблицы в csv, которые я в самом начале буду загружать из базы данных SQL, чтобы тебе не переделывать у себя всё.\n",
    "\n",
    "Посмотри пункт про тестирование гипотез и Fundamentals Analisys. Может ещё что нибудь придумаешь\n",
    "\n",
    "</div>"
   ]
  },
  {
   "cell_type": "code",
   "execution_count": 1,
   "metadata": {},
   "outputs": [
    {
     "name": "stdout",
     "output_type": "stream",
     "text": [
      "^C\r\n",
      "Traceback (most recent call last):\r\n",
      "  File \"/Users/vladislav/PycharmProjects/pythonProject/venv/bin/pip\", line 8, in <module>\r\n",
      "    sys.exit(main())\r\n",
      "  File \"/Users/vladislav/PycharmProjects/pythonProject/venv/lib/python3.8/site-packages/pip/_internal/cli/main.py\", line 73, in main\r\n",
      "    command = create_command(cmd_name, isolated=(\"--isolated\" in cmd_args))\r\n",
      "  File \"/Users/vladislav/PycharmProjects/pythonProject/venv/lib/python3.8/site-packages/pip/_internal/commands/__init__.py\", line 105, in create_command\r\n",
      "    module = importlib.import_module(module_path)\r\n",
      "  File \"/Users/vladislav/.pyenv/versions/3.8.6/lib/python3.8/importlib/__init__.py\", line 127, in import_module\r\n",
      "    return _bootstrap._gcd_import(name[level:], package, level)\r\n",
      "  File \"<frozen importlib._bootstrap>\", line 1014, in _gcd_import\r\n",
      "  File \"<frozen importlib._bootstrap>\", line 991, in _find_and_load\r\n",
      "  File \"<frozen importlib._bootstrap>\", line 975, in _find_and_load_unlocked\r\n",
      "  File \"<frozen importlib._bootstrap>\", line 671, in _load_unlocked\r\n",
      "  File \"<frozen importlib._bootstrap_external>\", line 783, in exec_module\r\n",
      "  File \"<frozen importlib._bootstrap>\", line 219, in _call_with_frames_removed\r\n",
      "  File \"/Users/vladislav/PycharmProjects/pythonProject/venv/lib/python3.8/site-packages/pip/_internal/commands/install.py\", line 17, in <module>\r\n",
      "    from pip._internal.cli.req_command import RequirementCommand, with_cleanup\r\n",
      "  File \"/Users/vladislav/PycharmProjects/pythonProject/venv/lib/python3.8/site-packages/pip/_internal/cli/req_command.py\", line 18, in <module>\r\n",
      "    from pip._internal.index.collector import LinkCollector\r\n",
      "  File \"/Users/vladislav/PycharmProjects/pythonProject/venv/lib/python3.8/site-packages/pip/_internal/index/collector.py\", line 29, in <module>\r\n",
      "    from pip._internal.vcs import is_url, vcs\r\n",
      "  File \"/Users/vladislav/PycharmProjects/pythonProject/venv/lib/python3.8/site-packages/pip/_internal/vcs/__init__.py\", line 6, in <module>\r\n",
      "    import pip._internal.vcs.bazaar\r\n",
      "  File \"/Users/vladislav/PycharmProjects/pythonProject/venv/lib/python3.8/site-packages/pip/_internal/vcs/bazaar.py\", line 12, in <module>\r\n",
      "    from pip._internal.utils.subprocess import make_command\r\n",
      "  File \"/Users/vladislav/PycharmProjects/pythonProject/venv/lib/python3.8/site-packages/pip/_internal/utils/subprocess.py\", line 5, in <module>\r\n",
      "    import subprocess\r\n",
      "  File \"<frozen importlib._bootstrap>\", line 991, in _find_and_load\r\n",
      "  File \"<frozen importlib._bootstrap>\", line 975, in _find_and_load_unlocked\r\n",
      "  File \"<frozen importlib._bootstrap>\", line 671, in _load_unlocked\r\n",
      "  File \"<frozen importlib._bootstrap_external>\", line 779, in exec_module\r\n",
      "  File \"<frozen importlib._bootstrap_external>\", line 911, in get_code\r\n",
      "  File \"<frozen importlib._bootstrap_external>\", line 580, in _compile_bytecode\r\n",
      "KeyboardInterrupt\r\n"
     ]
    }
   ],
   "source": [
    "!pip install arch"
   ]
  },
  {
   "cell_type": "code",
   "execution_count": 2,
   "metadata": {
    "slideshow": {
     "slide_type": "slide"
    }
   },
   "outputs": [
    {
     "ename": "ImportError",
     "evalue": "dlopen(/Users/vladislav/.pyenv/versions/3.8.6/lib/python3.8/site-packages/pymssql.cpython-38-darwin.so, 2): Library not loaded: /usr/local/opt/freetds/lib/libsybdb.5.dylib\n  Referenced from: /Users/vladislav/.pyenv/versions/3.8.6/lib/python3.8/site-packages/pymssql.cpython-38-darwin.so\n  Reason: image not found",
     "output_type": "error",
     "traceback": [
      "\u001B[0;31m---------------------------------------------------------------------------\u001B[0m",
      "\u001B[0;31mImportError\u001B[0m                               Traceback (most recent call last)",
      "\u001B[0;32m<ipython-input-2-1df10aa20383>\u001B[0m in \u001B[0;36m<module>\u001B[0;34m\u001B[0m\n\u001B[1;32m     21\u001B[0m \u001B[0;32mimport\u001B[0m \u001B[0mplotly\u001B[0m\u001B[0;34m.\u001B[0m\u001B[0mexpress\u001B[0m \u001B[0;32mas\u001B[0m \u001B[0mpx\u001B[0m\u001B[0;34m\u001B[0m\u001B[0;34m\u001B[0m\u001B[0m\n\u001B[1;32m     22\u001B[0m \u001B[0;32mimport\u001B[0m \u001B[0mpandas\u001B[0m \u001B[0;32mas\u001B[0m \u001B[0mpd\u001B[0m\u001B[0;34m\u001B[0m\u001B[0;34m\u001B[0m\u001B[0m\n\u001B[0;32m---> 23\u001B[0;31m \u001B[0;32mimport\u001B[0m \u001B[0mpymssql\u001B[0m\u001B[0;34m\u001B[0m\u001B[0;34m\u001B[0m\u001B[0m\n\u001B[0m\u001B[1;32m     24\u001B[0m \u001B[0;34m\u001B[0m\u001B[0m\n\u001B[1;32m     25\u001B[0m \u001B[0;34m\u001B[0m\u001B[0m\n",
      "\u001B[0;31mImportError\u001B[0m: dlopen(/Users/vladislav/.pyenv/versions/3.8.6/lib/python3.8/site-packages/pymssql.cpython-38-darwin.so, 2): Library not loaded: /usr/local/opt/freetds/lib/libsybdb.5.dylib\n  Referenced from: /Users/vladislav/.pyenv/versions/3.8.6/lib/python3.8/site-packages/pymssql.cpython-38-darwin.so\n  Reason: image not found"
     ]
    }
   ],
   "source": [
    "import numpy as np\n",
    "import pandas as pd\n",
    "import matplotlib.pyplot as plt\n",
    "import seaborn as sns\n",
    "from scipy.stats.mstats import gmean\n",
    "from IPython.display import Image\n",
    "from sklearn.ensemble import RandomForestRegressor\n",
    "from sklearn.linear_model import Ridge\n",
    "from statsmodels.graphics.tsaplots import plot_acf\n",
    "from statsmodels.graphics.tsaplots import plot_pacf\n",
    "from statsmodels.tsa.stattools import adfuller\n",
    "import arch\n",
    "from sklearn.model_selection import GridSearchCV\n",
    "from scipy import stats as st\n",
    "import warnings\n",
    "warnings.simplefilter('ignore')\n",
    "from jupyter_dash import JupyterDash\n",
    "import dash_core_components as dcc\n",
    "import dash_html_components as html\n",
    "from dash.dependencies import Input, Output\n",
    "import plotly.express as px\n",
    "import pandas as pd\n",
    "import pymssql\n",
    "\n",
    "\n",
    "'''\n",
    "import os\n",
    "for dirname, _, filenames in os.walk('/kaggle/input'):\n",
    "    for filename in filenames:\n",
    "        print(os.path.join(dirname, filename)) '''"
   ]
  },
  {
   "cell_type": "code",
   "execution_count": null,
   "metadata": {
    "slideshow": {
     "slide_type": "slide"
    }
   },
   "outputs": [],
   "source": [
    "\n",
    "conn = pymssql.connect(server='localhost', \n",
    "                       user='sa', \n",
    "                       password='YourPassword123', \n",
    "                       database='master')"
   ]
  },
  {
   "cell_type": "markdown",
   "metadata": {},
   "source": [
    "# Import data from SQL DB to Pandas"
   ]
  },
  {
   "cell_type": "code",
   "execution_count": null,
   "metadata": {},
   "outputs": [],
   "source": [
    "sec_df = pd.read_sql('SELECT * FROM securities', conn)\n",
    "price_df = pd.read_sql('SELECT * FROM prices', conn)\n",
    "fund_df = pd.read_sql('SELECT * FROM fundamentals_extracted_', conn)"
   ]
  },
  {
   "cell_type": "code",
   "execution_count": null,
   "metadata": {},
   "outputs": [],
   "source": [
    "price_df = price_df.drop('Idx', axis=1)"
   ]
  },
  {
   "cell_type": "code",
   "execution_count": null,
   "metadata": {},
   "outputs": [],
   "source": [
    "price_df_merged = pd.read_sql('SELECT * FROM prices INNER JOIN securities on prices.symbol = securities.Ticker_symbol INNER JOIN  fundamentals_extracted_ on fundamentals_extracted_.Ticker_Symbol = prices.symbol AND fundamentals_extracted_.For_Year = prices.for_year', conn)\n"
   ]
  },
  {
   "cell_type": "code",
   "execution_count": null,
   "metadata": {},
   "outputs": [],
   "source": [
    "'''\n",
    "# Здесь код чтобы сохранить загруженные из SQL таблички.\n",
    "sec_df.to_csv('my_securities.csv')\n",
    "price_df.to_csv('my_prices.csv')\n",
    "fund_df.to_csv('my_fundamentals.csv')\n",
    "'''"
   ]
  },
  {
   "cell_type": "code",
   "execution_count": null,
   "metadata": {},
   "outputs": [],
   "source": [
    "fund_df_merged = pd.read_sql('SELECT * FROM fundamentals_extracted_ INNER JOIN securities on fundamentals_extracted_.Ticker_Symbol = securities.Ticker_symbol', conn)\n"
   ]
  },
  {
   "cell_type": "markdown",
   "metadata": {},
   "source": [
    "# Preview data"
   ]
  },
  {
   "cell_type": "code",
   "execution_count": null,
   "metadata": {},
   "outputs": [],
   "source": [
    "price_df.sample(6)"
   ]
  },
  {
   "cell_type": "code",
   "execution_count": null,
   "metadata": {},
   "outputs": [],
   "source": [
    "price_df.info()"
   ]
  },
  {
   "cell_type": "code",
   "execution_count": null,
   "metadata": {},
   "outputs": [],
   "source": [
    "sec_df.sample(6)\n"
   ]
  },
  {
   "cell_type": "code",
   "execution_count": null,
   "metadata": {},
   "outputs": [],
   "source": [
    "sec_df.info()"
   ]
  },
  {
   "cell_type": "code",
   "execution_count": null,
   "metadata": {},
   "outputs": [],
   "source": [
    "fund_df.sample(6)"
   ]
  },
  {
   "cell_type": "code",
   "execution_count": null,
   "metadata": {},
   "outputs": [],
   "source": [
    "fund_df.info()"
   ]
  },
  {
   "cell_type": "markdown",
   "metadata": {},
   "source": [
    "# Data Preprocessing and Cleaning"
   ]
  },
  {
   "cell_type": "markdown",
   "metadata": {},
   "source": [
    "Удалим ненужные столбцы"
   ]
  },
  {
   "cell_type": "code",
   "execution_count": null,
   "metadata": {},
   "outputs": [],
   "source": [
    "price_df = price_df.drop('ID', axis=1)\n",
    "fund_df = fund_df.drop('to_drop', axis=1)\n",
    "fund_df = fund_df.drop('ID', axis=1)\n",
    "fund_df_merged = fund_df_merged.drop('to_drop', axis=1)\n",
    "fund_df_merged = fund_df_merged.drop('ID', axis=1)\n",
    "sec_df = sec_df.drop('ID', axis=1)"
   ]
  },
  {
   "cell_type": "markdown",
   "metadata": {},
   "source": [
    "Приведем даты к нужному формату"
   ]
  },
  {
   "cell_type": "code",
   "execution_count": null,
   "metadata": {},
   "outputs": [],
   "source": [
    "price_df['date'] = pd.to_datetime(price_df['date'])\n",
    "sec_df['Date_first_added'] = pd.to_datetime(sec_df['Date_first_added'])"
   ]
  },
  {
   "cell_type": "markdown",
   "metadata": {},
   "source": [
    "Проверим, есть ли пропуски"
   ]
  },
  {
   "cell_type": "code",
   "execution_count": null,
   "metadata": {},
   "outputs": [],
   "source": [
    "price_df.isna().sum()"
   ]
  },
  {
   "cell_type": "code",
   "execution_count": null,
   "metadata": {},
   "outputs": [],
   "source": [
    "sec_df.isna().sum()"
   ]
  },
  {
   "cell_type": "markdown",
   "metadata": {},
   "source": [
    "Есть пропуски только в столбце, обозначающем дату включения в лист Нью-Йоркской Фондовой Биржи, этот столбец не не сёт особой смысловой нагрузки для нас"
   ]
  },
  {
   "cell_type": "code",
   "execution_count": null,
   "metadata": {},
   "outputs": [],
   "source": [
    "fund_df.isna().sum()"
   ]
  },
  {
   "cell_type": "markdown",
   "metadata": {},
   "source": [
    "# Exploratory Data Analysis"
   ]
  },
  {
   "cell_type": "markdown",
   "metadata": {},
   "source": [
    "## Delete inconsistent companies"
   ]
  },
  {
   "cell_type": "markdown",
   "metadata": {},
   "source": [
    "Проблема в котировках заключается в том, что котировки у разных компаний начинаются с разных дат (и даже разных годов). Нужно выбрать только те компании, по которым доступны котировки с 2012-01-18. "
   ]
  },
  {
   "cell_type": "code",
   "execution_count": null,
   "metadata": {},
   "outputs": [],
   "source": [
    "fund_df['For_Year'].value_counts()"
   ]
  },
  {
   "cell_type": "code",
   "execution_count": null,
   "metadata": {},
   "outputs": [],
   "source": [
    "len(fund_df['Ticker_Symbol'].unique())"
   ]
  },
  {
   "cell_type": "markdown",
   "metadata": {},
   "source": [
    "Всего 360 уникальных компаний, по которым доступны данные фундаментальных характеристик."
   ]
  },
  {
   "cell_type": "code",
   "execution_count": null,
   "metadata": {},
   "outputs": [],
   "source": [
    "len(fund_df[fund_df['For_Year'] == 2012]['Ticker_Symbol'].unique())"
   ]
  },
  {
   "cell_type": "markdown",
   "metadata": {},
   "source": [
    "Из них половина доступна с 2012 года"
   ]
  },
  {
   "cell_type": "code",
   "execution_count": null,
   "metadata": {},
   "outputs": [],
   "source": [
    "pd.Series(fund_df[fund_df['For_Year'] == 2012]['Ticker_Symbol'].unique())\\\n",
    "          .isin(price_df[price_df['date'] == pd.to_datetime('2012-01-18')]['symbol'].unique()).sum()"
   ]
  },
  {
   "cell_type": "markdown",
   "metadata": {},
   "source": [
    "При этом по 178 из них имеются котировки с самого начала 2012 года."
   ]
  },
  {
   "cell_type": "code",
   "execution_count": null,
   "metadata": {},
   "outputs": [],
   "source": [
    "pd.Series(fund_df[fund_df['For_Year'] == 2012]['Ticker_Symbol'].unique()).isin(sec_df['Ticker_symbol'].unique()).sum()\n"
   ]
  },
  {
   "cell_type": "markdown",
   "metadata": {},
   "source": [
    "С данными из SEC по этим компаниям проблем нет"
   ]
  },
  {
   "cell_type": "markdown",
   "metadata": {},
   "source": [
    "Оставим только 178 указанных компаний в выборке для анализа, так как по остальным недостаточно данных:"
   ]
  },
  {
   "cell_type": "code",
   "execution_count": null,
   "metadata": {},
   "outputs": [],
   "source": [
    "tickers_chosen = fund_df[fund_df['For_Year'] == 2012]['Ticker_Symbol'].unique()\n",
    "tickers_chosen = tickers_chosen[pd.Series(fund_df[fund_df['For_Year'] == 2012]['Ticker_Symbol'].unique())\\\n",
    "          .isin(price_df[price_df['date'] == pd.to_datetime('2012-01-18')]['symbol'].unique())]\n",
    "len(tickers_chosen)"
   ]
  },
  {
   "cell_type": "code",
   "execution_count": null,
   "metadata": {},
   "outputs": [],
   "source": [
    "np.shape(fund_df)"
   ]
  },
  {
   "cell_type": "code",
   "execution_count": null,
   "metadata": {},
   "outputs": [],
   "source": [
    "fund_df = fund_df[fund_df['Ticker_Symbol'].isin(tickers_chosen)]\n",
    "fund_df_merged = fund_df_merged[fund_df_merged['Ticker_Symbol'].isin(tickers_chosen)]\n",
    "sec_df = sec_df[sec_df['Ticker_symbol'].isin(tickers_chosen)]\n",
    "price_df = price_df[price_df['symbol'].isin(tickers_chosen)]"
   ]
  },
  {
   "cell_type": "code",
   "execution_count": null,
   "metadata": {},
   "outputs": [],
   "source": [
    "np.shape(fund_df)"
   ]
  },
  {
   "cell_type": "markdown",
   "metadata": {},
   "source": [
    "Создадим pivot_table, в которой каждый столбец будет соответствовать отдельной компании, и в нем будет содержаться временной ряд для ежедневных доходностей этой компании."
   ]
  },
  {
   "cell_type": "code",
   "execution_count": null,
   "metadata": {},
   "outputs": [],
   "source": [
    "price_df"
   ]
  },
  {
   "cell_type": "code",
   "execution_count": null,
   "metadata": {},
   "outputs": [],
   "source": [
    "sec_df.replace(['Telecommunications Services'], ['Telecommunications'], inplace=True)\n",
    "\n",
    "sec_df = sec_df.rename(columns = {'Ticker_symbol' : 'symbol','GICS_Sector' : 'sector'})\n",
    "price_df  = price_df.merge(sec_df[['symbol','sector']], on = 'symbol')\n",
    "#price_df  = price_df.merge(fund_df_merged['Estimated Shares Outstanding'], left_on = ['symbol', 'year'], right_on = ['Ticker_Symbol', 'For_Year'])\n",
    "price_df['date'] = pd.to_datetime(price_df['date'])\n",
    "\n",
    "date_chosen = '2012-01-18'\n",
    "price_df = price_df[pd.to_datetime(price_df['date']) > pd.to_datetime(date_chosen)]\n",
    "\n",
    "sector_pivot = pd.pivot_table(price_df, values = 'close', index = ['date'], columns = ['sector']).reset_index()\n",
    "\n",
    "price_df['return'] = price_df.close / price_df.close.shift(1)\n",
    "price_df['good'] = price_df['symbol'] == price_df['symbol'].shift(1)\n",
    "price_df = price_df.drop(price_df[price_df['good'] == False].index)\n",
    "price_df.dropna(inplace = True)\n",
    "\n",
    "price_df_copy = price_df.copy()\n",
    "\n",
    "price_df.set_index(['symbol', 'date'], inplace=True, drop=False)\n",
    "\n",
    "price_df['num shares outstanding'] = 0\n",
    "\n",
    "columns_list = price_df.columns\n",
    "\n",
    "#fund_df_merged = fund_df_merged.rename(columns = {'symbol' : 'Ticker_Symbol','sector' : 'sectorGICS_Sector', 'year': 'For_Year'})\n"
   ]
  },
  {
   "cell_type": "code",
   "execution_count": null,
   "metadata": {},
   "outputs": [],
   "source": [
    "port_df = price_df.pivot('date', 'symbol', 'return').fillna(1)\n",
    "port_df"
   ]
  },
  {
   "cell_type": "code",
   "execution_count": null,
   "metadata": {},
   "outputs": [],
   "source": [
    "port_df.tail()"
   ]
  },
  {
   "cell_type": "code",
   "execution_count": null,
   "metadata": {},
   "outputs": [],
   "source": [
    "print(port_df.columns.unique())"
   ]
  },
  {
   "cell_type": "markdown",
   "metadata": {},
   "source": [
    "Возьмем котировки компании \"Chevron\" и 3 случайные компании и построим небольшую визуализацию:"
   ]
  },
  {
   "cell_type": "code",
   "execution_count": null,
   "metadata": {},
   "outputs": [],
   "source": [
    "sample_tickers = pd.Series('CVX')\n",
    "sample_tickers = sample_tickers.append(pd.Series(port_df.columns.unique()).sample(3))\n",
    "\n",
    "fig, axs = plt.subplots(2, 1, figsize=(8, 10))\n",
    "\n",
    "sns.lineplot(data=price_df.pivot('date', 'symbol', 'close')[sample_tickers].rolling(4).mean(), \n",
    "             palette=\"Set2\", \n",
    "             linewidth=2.5, \n",
    "             ax=axs[0])\n",
    "sns.violinplot(data=port_df[sample_tickers]-1, \n",
    "               palette=\"Set2\", \n",
    "               inner=\"points\", \n",
    "               orient=\"h\", \n",
    "               scale='area', \n",
    "               ax=axs[1])"
   ]
  },
  {
   "cell_type": "code",
   "execution_count": null,
   "metadata": {},
   "outputs": [],
   "source": [
    "plt.close()"
   ]
  },
  {
   "cell_type": "markdown",
   "metadata": {},
   "source": [
    "## Fundamentals Analysis"
   ]
  },
  {
   "cell_type": "markdown",
   "metadata": {},
   "source": [
    "Здесь используем неизмененный датасет fund_df_merged:"
   ]
  },
  {
   "cell_type": "code",
   "execution_count": null,
   "metadata": {},
   "outputs": [],
   "source": [
    "fund_df_merged.sample(5)"
   ]
  },
  {
   "cell_type": "code",
   "execution_count": null,
   "metadata": {},
   "outputs": [],
   "source": [
    "fund_df_merged.columns"
   ]
  },
  {
   "cell_type": "code",
   "execution_count": null,
   "metadata": {},
   "outputs": [],
   "source": [
    "fund_df_merged['GICS_Sector'].value_counts()"
   ]
  },
  {
   "cell_type": "code",
   "execution_count": null,
   "metadata": {},
   "outputs": [],
   "source": [
    "def delete_outliers(series):\n",
    "    q1 = series.quantile(0.25)                 \n",
    "    q3 = series.quantile(0.75)\n",
    "    iqr = q3 - q1\n",
    "    iqr_test = (series >= (q1 - 1.5 * iqr)) & (series <= (q3 + 1.5 * iqr))\n",
    "    return series.loc[iqr_test]"
   ]
  },
  {
   "cell_type": "markdown",
   "metadata": {
    "pycharm": {
     "is_executing": true
    }
   },
   "source": [
    "!pip install seaborn --upgrade"
   ]
  },
  {
   "cell_type": "markdown",
   "metadata": {},
   "source": [
    "### Средние доходности по секторам"
   ]
  },
  {
   "cell_type": "code",
   "execution_count": null,
   "metadata": {},
   "outputs": [],
   "source": [
    "sector_df_mean = pd.DataFrame()\n",
    "sector_df_std = pd.DataFrame()\n",
    "for year in [2012, 2013, 2014, 2015]:\n",
    "    sector_df_mean[year] = (price_df.query('for_year == @year').groupby('sector')['return'].apply(lambda x: gmean(x)) - 1) * 252\n",
    "    sector_df_std[year] =  price_df.query('for_year == @year').groupby('sector')['return'].std()\n",
    "sector_df_mean.columns = sector_df_mean.columns.astype('str')\n",
    "sector_df_std.columns = sector_df_std.columns.astype('str')"
   ]
  },
  {
   "cell_type": "code",
   "execution_count": null,
   "metadata": {},
   "outputs": [],
   "source": [
    "sector_df_mean"
   ]
  },
  {
   "cell_type": "code",
   "execution_count": null,
   "metadata": {},
   "outputs": [],
   "source": [
    "sector_df_std"
   ]
  },
  {
   "cell_type": "markdown",
   "metadata": {},
   "source": [
    "График доступен в интерактивном виде в Дашборде"
   ]
  },
  {
   "cell_type": "code",
   "execution_count": null,
   "metadata": {},
   "outputs": [],
   "source": [
    "px.bar(sector_df_mean, x=sector_df_mean.index, y=sector_df_mean['2015'], color=sector_df_mean.index, title='Средние доходности акций по отраслям в 2015г.')"
   ]
  },
  {
   "cell_type": "markdown",
   "metadata": {},
   "source": [
    "### Рентабельность собственного капитала"
   ]
  },
  {
   "cell_type": "code",
   "execution_count": null,
   "metadata": {},
   "outputs": [],
   "source": [
    "cols = ['After_Tax_ROE']\n",
    "sectors = fund_df_merged['GICS_Sector'].unique()\n",
    "fund_df_merged_del = fund_df_merged.query('GICS_Sector in @sectors')\n",
    "fund_df_merged_del[cols] = fund_df_merged_del[cols].apply(delete_outliers)\n",
    "\n",
    "f, ax = plt.subplots(figsize=(5, 13))\n",
    "\n",
    "#sns.histplot(fund_df_merged_prcd, x='After_Tax_ROE', hue='GICS_Sector', element=\"step\", stat=\"density\")\n",
    "\n",
    "sns.violinplot(data=fund_df_merged_del, x='After_Tax_ROE', \n",
    "               y=fund_df_merged_del['GICS_Sector'], \n",
    "               linewidth=1, \n",
    "               scale='area', \n",
    "               ax=ax, orient=\"h\")\n",
    "sns.despine(left=True)\n",
    "\n",
    "plt.title('After Tax ROE by Sector', fontsize='xx-large')"
   ]
  },
  {
   "cell_type": "markdown",
   "metadata": {},
   "source": [
    "### Валовая и чистая рентабельность по секторам"
   ]
  },
  {
   "cell_type": "code",
   "execution_count": null,
   "metadata": {},
   "outputs": [],
   "source": [
    "sns.set_theme(style=\"whitegrid\")\n",
    "year = 2015\n",
    "cols = ['Profit_Margin', 'Gross_Margin']\n",
    "sectors = [\"Industrials\", \"Information Tecknology\", \"Energy\", \"Materials\", \"Financials\", 'Consumer Discretionary']\n",
    "fund_df_merged_prcd = fund_df_merged.query('GICS_Sector in @sectors')\n",
    "fund_df_merged_prcd[cols] = fund_df_merged_prcd[cols].apply(delete_outliers)\n",
    "\n",
    "f, ax = plt.subplots(figsize=(8, 8))\n",
    "\n",
    "sns.despine(f, left=True, bottom=True)\n",
    "clarity_ranking = fund_df_merged['GICS_Sector'].unique()\n",
    "sns.scatterplot(x='Gross_Margin', y='Profit_Margin',\n",
    "                hue=fund_df_merged_prcd['GICS_Sector'],\n",
    "                palette=\"CMRmap\",\n",
    "                linewidth=0, sizes=(1, 8),\n",
    "                data=fund_df_merged_prcd.query('For_Year == @year'), ax=ax)\n",
    "plt.title('Gross Margin vs Profit Margin by sector', fontsize='xx-large')"
   ]
  },
  {
   "cell_type": "code",
   "execution_count": null,
   "metadata": {},
   "outputs": [],
   "source": [
    "sectors = fund_df_merged['GICS_Sector'].unique()\n",
    "\n",
    "sns.jointplot(x=fund_df_merged.query('GICS_Sector in @sectors and Profit_Margin<=40')['Gross_Margin'], \n",
    "              y=fund_df_merged.query('GICS_Sector in @sectors and Profit_Margin<=40')['Profit_Margin'], \n",
    "              kind=\"hex\", color=\"SlateBlue\")\n"
   ]
  },
  {
   "cell_type": "code",
   "execution_count": null,
   "metadata": {},
   "outputs": [],
   "source": [
    "sectors = fund_df_merged['GICS_Sector'].unique()\n",
    "sns.jointplot(x=fund_df_merged.query('GICS_Sector in @sectors and Quick_Ratio<=400')['Cash_Ratio'], \n",
    "              y=fund_df_merged.query('GICS_Sector in @sectors and Quick_Ratio<=400')['Quick_Ratio'], \n",
    "              kind=\"hex\", color=\"plum\")"
   ]
  },
  {
   "cell_type": "markdown",
   "metadata": {},
   "source": [
    "### Капитализация по отраслям"
   ]
  },
  {
   "cell_type": "code",
   "execution_count": null,
   "metadata": {},
   "outputs": [],
   "source": [
    "price_df_merged['Capitalization'] = price_df_merged['close'] * price_df_merged['Estimated Shares Outstanding']"
   ]
  },
  {
   "cell_type": "code",
   "execution_count": null,
   "metadata": {},
   "outputs": [],
   "source": [
    "capitalizations_sector =  price_df_merged.pivot_table(index='date', columns='GICS_Sector', values='Capitalization', aggfunc='sum').fillna(0)\n",
    "capitalizations_sector['sum'] = 1\n",
    "for sector in capitalizations_sector.columns:\n",
    "    if sector != 'sum':\n",
    "        capitalizations_sector['sum'] += capitalizations_sector[sector]\n",
    "capitalizations_sector_copy = capitalizations_sector.drop('sum', axis=1).copy()\n",
    "for sector in capitalizations_sector.columns:\n",
    "    capitalizations_sector[sector] = capitalizations_sector[sector]/capitalizations_sector['sum']\n",
    "capitalizations_sector.drop('sum', axis=1, inplace=True)"
   ]
  },
  {
   "cell_type": "code",
   "execution_count": null,
   "metadata": {},
   "outputs": [],
   "source": [
    "fig, axs = plt.subplots(1, 1, figsize=(10, 6))\n",
    "sns.lineplot(data=capitalizations_sector, \n",
    "             palette=\"Set3\", \n",
    "             linewidth=2.5, ax=axs)"
   ]
  },
  {
   "cell_type": "markdown",
   "metadata": {},
   "source": [
    "capitalizations_stock = price_df_merged.pivot_table(index='date', columns='symbol', values='Capitalization').fillna(0)\n",
    "capitalizations_sector = price_df_merged.pivot_table(index='date', columns='GICS_Sector', values='Capitalization', aggfunc='sum').fillna(0)\n",
    "sector_list = capitalizations_sector.columns\n",
    "stock_list = capitalizations_stock.columns\n",
    "for sector in tqdm(sector_list):\n",
    "    for stock in stock_list:\n",
    "        if stock in price_df_merged.query('GICS_Sector==@sector')['symbol'].unique():\n",
    "            capitalizations_stock[stock] = capitalizations_stock[stock] / capitalizations_sector[sector]\n",
    "            "
   ]
  },
  {
   "cell_type": "markdown",
   "metadata": {},
   "source": [
    "capitalizations_stock = capitalizations_stock.loc[capitalizations_stock.index >= pd.to_datetime('2012-01-19')]\n",
    "capitalizations_stock = capitalizations_stock[price_df.pivot('date', 'symbol', 'return').columns]\n",
    "capitalizations_stock"
   ]
  },
  {
   "cell_type": "markdown",
   "metadata": {
    "pycharm": {
     "is_executing": true
    }
   },
   "source": [
    "for sector in tqdm(capitalizations_sector.columns):\n",
    "    port_df[sector] = 1\n",
    "    s = str(sector) + '_cumulative'\n",
    "    port_df[s] = 1\n",
    "    stock_list = price_df.query('sector == @sector')['symbol'].unique()\n",
    "    for col in port_df.columns:\n",
    "        if col in stock_list:\n",
    "            port_df[sector] *= (port_df[col] * capitalizations_stock[stock])\n",
    "    port_df[sector].plot()"
   ]
  },
  {
   "cell_type": "markdown",
   "metadata": {},
   "source": [
    "## Hypotheses Testing"
   ]
  },
  {
   "cell_type": "markdown",
   "metadata": {},
   "source": [
    "Посмотрим, какие вообще секторы есть"
   ]
  },
  {
   "cell_type": "code",
   "execution_count": null,
   "metadata": {},
   "outputs": [],
   "source": [
    "fund_df_merged['GICS_Sector'].value_counts()"
   ]
  },
  {
   "cell_type": "markdown",
   "metadata": {},
   "source": [
    "### Гипотеза о равенстве средних Profit Margin для секторов Energy и Materials"
   ]
  },
  {
   "cell_type": "markdown",
   "metadata": {},
   "source": [
    "Посмотрим, сколько уникальных компаний принадлежат секторам Materials и Energy"
   ]
  },
  {
   "cell_type": "code",
   "execution_count": null,
   "metadata": {},
   "outputs": [],
   "source": [
    "len(fund_df_merged.query('For_Year == 2015 and GICS_Sector != \"Energy\"')['Ticker_Symbol'].unique())"
   ]
  },
  {
   "cell_type": "code",
   "execution_count": null,
   "metadata": {},
   "outputs": [],
   "source": [
    "len(fund_df_merged.query('For_Year == 2015 and GICS_Sector == \"Energy\"')['Ticker_Symbol'].unique())"
   ]
  },
  {
   "cell_type": "markdown",
   "metadata": {},
   "source": [
    "Проверим предположение о том, что их Profit Margin в 2015 равны:\n",
    "* H0: Profit Margin для компаний секторов Energy и Materials в 2015 в среднем равны (так как компании из обоих секторов занимаются добычей полезных ископаемых)\n",
    "* H1: Profit Margin для компаний секторов Energy и Materials в 2015 в среднем не равны"
   ]
  },
  {
   "cell_type": "code",
   "execution_count": null,
   "metadata": {},
   "outputs": [],
   "source": [
    "sector_1 = \"Energy\"\n",
    "sector_2 = \"Materials\"\n",
    "column = 'Profit_Margin'\n",
    "alpha = 0.05\n",
    "print('Уровень значимости: ', alpha)\n",
    "print()\n",
    "for year in [2013, 2014, 2015]:\n",
    "    sample_1 = fund_df_merged.query('GICS_Sector == @sector_1 and For_Year == @year')[column]\n",
    "    sample_2 = fund_df_merged.query('GICS_Sector == @sector_2 and For_Year == @year')[column]\n",
    "    # без удаления выбросов:\n",
    "    #results = st.ttest_ind(sample_1, sample_2, equal_var=False)\n",
    "    # с удалением выбросов:\n",
    "    results = st.ttest_ind(delete_outliers(sample_1), delete_outliers(sample_2), equal_var=False)\n",
    "    print(year, ' год : p-значение: ', results.pvalue)\n",
    "\n",
    "    if (results.pvalue < alpha):\n",
    "        print(\"Отвергаем нулевую гипотезу\")\n",
    "        print()\n",
    "    else:\n",
    "        print(\"Не получилось отвергнуть нулевую гипотезу\")\n",
    "        print()"
   ]
  },
  {
   "cell_type": "markdown",
   "metadata": {},
   "source": [
    "### Гипотеза: средняя доходность акций компаний сектора Energy меньше, чем в средняя доходность по другим отраслям"
   ]
  },
  {
   "cell_type": "markdown",
   "metadata": {},
   "source": [
    "Проверим данное предположение:\n",
    "* H0:  средняя доходность акций компаний сектора Energy равна средней доходности по другим отраслям\n",
    "* H1:  средняя доходность акций компаний сектора Energy меньше, чем в средняя доходность по другим отраслям"
   ]
  },
  {
   "cell_type": "code",
   "execution_count": null,
   "metadata": {},
   "outputs": [],
   "source": [
    "capitalizations_sector_copy.head(3)"
   ]
  },
  {
   "cell_type": "code",
   "execution_count": null,
   "metadata": {},
   "outputs": [],
   "source": [
    "capitalizations_sector_copy.drop(sector_1, axis=1).columns"
   ]
  },
  {
   "cell_type": "code",
   "execution_count": null,
   "metadata": {},
   "outputs": [],
   "source": [
    "sector_1 = \"Energy\"\n",
    "alpha = 0.05\n",
    "print('Уровень значимости: ', alpha)\n",
    "print()\n",
    "sample_1 = capitalizations_sector_copy[sector_1]\n",
    "sample_2 = capitalizations_sector_copy[capitalizations_sector_copy.drop(sector_1, axis=1).columns].mean(axis=1)\n",
    "# без удаления выбросов:\n",
    "#results = st.ttest_ind(sample_1, sample_2, equal_var=False)\n",
    "# с удалением выбросов:\n",
    "results = st.ttest_ind(delete_outliers(sample_1), delete_outliers(sample_2), equal_var=False)\n",
    "print('p-значение: ', results.pvalue)\n",
    "if (results.pvalue < alpha/2):\n",
    "    print(\"Отвергаем нулевую гипотезу\")\n",
    "    print()\n",
    "else:\n",
    "    print(\"Не получилось отвергнуть нулевую гипотезу\")\n",
    "    print()"
   ]
  },
  {
   "cell_type": "markdown",
   "metadata": {},
   "source": [
    "### Ещё какую-нибудь гипотезу с ликвидностью сделай по аналогии с первой гипотезой"
   ]
  },
  {
   "cell_type": "code",
   "execution_count": null,
   "metadata": {},
   "outputs": [],
   "source": []
  },
  {
   "cell_type": "markdown",
   "metadata": {},
   "source": [
    "# GARCH Model"
   ]
  },
  {
   "cell_type": "code",
   "execution_count": null,
   "metadata": {},
   "outputs": [],
   "source": [
    "port_df.columns[20:100]"
   ]
  },
  {
   "cell_type": "markdown",
   "metadata": {},
   "source": [
    "## ACF- and PACF-function"
   ]
  },
  {
   "cell_type": "code",
   "execution_count": null,
   "metadata": {},
   "outputs": [],
   "source": [
    "stock = 'CVX'  #CVX EIX DHR DUK COG\n",
    "lags = 50\n",
    "pq_1 = [10, 10]\n",
    "pq_2 = [5, 5]\n",
    "\n",
    "plot_acf(port_df[stock], lags=lags, zero=False)"
   ]
  },
  {
   "cell_type": "code",
   "execution_count": null,
   "metadata": {},
   "outputs": [],
   "source": [
    "plot_pacf(port_df[stock], lags=lags, zero=False)"
   ]
  },
  {
   "cell_type": "markdown",
   "metadata": {},
   "source": [
    "## ADF test"
   ]
  },
  {
   "cell_type": "markdown",
   "metadata": {},
   "source": [
    "* H0: there is a unit root\n",
    "* H1: there is no unit root"
   ]
  },
  {
   "cell_type": "code",
   "execution_count": null,
   "metadata": {},
   "outputs": [],
   "source": [
    "n_test = 15\n",
    "port_df_stock = ((port_df[stock]-1)*100)[16:]\n",
    "port_df_stock_std = ((port_df[stock]-1)*100).rolling(15).std()[16:]\n",
    "train, test = port_df_stock[:-n_test], port_df_stock[-n_test:]"
   ]
  },
  {
   "cell_type": "code",
   "execution_count": null,
   "metadata": {},
   "outputs": [],
   "source": [
    "adfuller(port_df_stock)"
   ]
  },
  {
   "cell_type": "markdown",
   "metadata": {},
   "source": [
    "P-value < 0.05   =>   Отвергаем нулевую гипотезу H0"
   ]
  },
  {
   "cell_type": "markdown",
   "metadata": {},
   "source": [
    "## Building GARCH Model"
   ]
  },
  {
   "cell_type": "code",
   "execution_count": null,
   "metadata": {},
   "outputs": [],
   "source": [
    "port_df_stock.plot()\n",
    "plt.title('Standard Deviation of ' + stock)"
   ]
  },
  {
   "cell_type": "code",
   "execution_count": null,
   "metadata": {},
   "outputs": [],
   "source": [
    "model_1 = arch.arch_model(np.ascontiguousarray(train-1), mean='Zero', vol='GARCH', p=pq_1[0], o=0 ,q=pq_1[1])\n",
    "model_fit_1 = model_1.fit()\n",
    "y_pred_1 = model_fit_1.forecast(horizon=n_test)\n",
    "\n",
    "model_2 = arch.arch_model(np.ascontiguousarray(train-1), mean='Zero', vol='GARCH', p=pq_2[0], o=0, q=pq_2[1])\n",
    "model_fit_2 = model_2.fit()\n",
    "y_pred_2 = model_fit_2.forecast(horizon=n_test)"
   ]
  },
  {
   "cell_type": "code",
   "execution_count": null,
   "metadata": {},
   "outputs": [],
   "source": [
    "model_fit_1.summary()"
   ]
  },
  {
   "cell_type": "code",
   "execution_count": null,
   "metadata": {},
   "outputs": [],
   "source": [
    "model_fit_2.summary()"
   ]
  },
  {
   "cell_type": "code",
   "execution_count": null,
   "metadata": {},
   "outputs": [],
   "source": [
    "model_fit_1.plot()"
   ]
  },
  {
   "cell_type": "code",
   "execution_count": null,
   "metadata": {},
   "outputs": [],
   "source": [
    "model_fit_2.plot()"
   ]
  },
  {
   "cell_type": "code",
   "execution_count": null,
   "metadata": {},
   "outputs": [],
   "source": [
    "test_std_1 = pd.DataFrame({'actual': port_df_stock_std[-n_test:], 'predicted': np.sqrt(y_pred_1.variance.values[-1, :])})\n",
    "test_std_2 = pd.DataFrame({'actual': port_df_stock_std[-n_test:], 'predicted': np.sqrt(y_pred_2.variance.values[-1, :])})"
   ]
  },
  {
   "cell_type": "code",
   "execution_count": null,
   "metadata": {},
   "outputs": [],
   "source": [
    "fig, axs = plt.subplots(2, 1, figsize=(8, 10))\n",
    "sns.lineplot(data=test_std_1, \n",
    "             palette=\"Set2\", \n",
    "             linewidth=2.5, \n",
    "             ax=axs[0])\n",
    "axs[0].set_title('Model 1')\n",
    "sns.lineplot(data=test_std_2, \n",
    "             palette=\"Set2\", \n",
    "             linewidth=2.5, \n",
    "             ax=axs[1])\n",
    "axs[1].set_title('Model 2')"
   ]
  },
  {
   "cell_type": "markdown",
   "metadata": {},
   "source": [
    "# Dash"
   ]
  },
  {
   "cell_type": "code",
   "execution_count": null,
   "metadata": {},
   "outputs": [],
   "source": [
    "!pip install jupyter-dash"
   ]
  },
  {
   "cell_type": "code",
   "execution_count": null,
   "metadata": {},
   "outputs": [],
   "source": [
    "sector_df_mean = pd.DataFrame()\n",
    "sector_df_std = pd.DataFrame()\n",
    "for year in [2012, 2013, 2014, 2015]:\n",
    "    sector_df_mean[year] = (price_df.query('for_year == @year').groupby('sector')['return'].apply(lambda x: gmean(x)) - 1) * 252\n",
    "    sector_df_std[year] =  price_df.query('for_year == @year').groupby('sector')['return'].std()\n",
    "sector_df_mean.columns = sector_df_mean.columns.astype('str')\n",
    "sector_df_std.columns = sector_df_std.columns.astype('str')"
   ]
  },
  {
   "cell_type": "code",
   "execution_count": null,
   "metadata": {},
   "outputs": [],
   "source": [
    "from plotly.subplots import make_subplots\n",
    "import plotly.graph_objects as go\n",
    "\n",
    "stock = 'CVX'\n",
    "sector = 'Energy'\n",
    "\n",
    "external_stylesheets = ['https://codepen.io/chriddyp/pen/bWLwgP.css']\n",
    "\n",
    "app = JupyterDash(__name__, external_stylesheets=external_stylesheets)\n",
    "\n",
    "# assume you have a \"long-form\" data frame\n",
    "# see https://plotly.com/python/px-arguments/ for more options\n",
    "\n",
    "#fig = px.line(price_df, x=price_df.pivot('date', 'symbol', 'close').index, y=price_df.pivot('date', 'symbol', 'close')['CVX'], title='Chevron Corp. Stock Prices')\n",
    "\n",
    "fig = make_subplots(rows=3, cols=1)\n",
    "\n",
    "fig.append_trace(go.Scatter(x=price_df.pivot('date', 'symbol', 'close').index, \n",
    "                            y=price_df.pivot('date', 'symbol', 'close')[stock], mode = 'lines',\n",
    "                            name = 'Chevron Corp. Stock Prices'), \n",
    "                 row=1, col=1)\n",
    "\n",
    "fig.append_trace(go.Scatter(\n",
    "    x=[2, 3, 4],\n",
    "    y=[100, 110, 120],\n",
    "), row=2, col=1)\n",
    "\n",
    "fig.append_trace(go.Scatter(\n",
    "    x=[0, 1, 2],\n",
    "    y=[10, 11, 12]\n",
    "), row=3, col=1)\n",
    "\n",
    "\n",
    "\n",
    "\n",
    "fig.update_layout(height=1400, width=1400, title_text=\"Stacked Subplots\")\n",
    "\n",
    "# app appearance\n",
    "app.layout = html.Div(children=[\n",
    "    html.H1(children='Hello Dash'),\n",
    "\n",
    "    html.Div(children='''\n",
    "        Dash: A web application framework for Python.\n",
    "    '''),\n",
    "    \n",
    "    html.Div(children='''\n",
    "        Fuck you Lakshina!\n",
    "    '''),\n",
    "\n",
    "    dcc.Graph(\n",
    "        id='example-graph',\n",
    "        figure=fig\n",
    "    ),\n",
    "    dcc.Dropdown(\n",
    "        id=\"dropdown\",\n",
    "        options=[{\"label\": x, \"value\": x} for x in sector_df_mean.columns],\n",
    "        value= sector_df_mean.columns[0],\n",
    "        clearable=False,\n",
    "        placeholder=\"Select a year\",\n",
    "    ),\n",
    "    dcc.Graph(id=\"bar-chart\")\n",
    "])\n",
    "\n",
    "@app.callback(\n",
    "    Output(\"bar-chart\", \"figure\"), \n",
    "    [Input(\"dropdown\", \"value\")])\n",
    "def update_bar_chart(value):\n",
    "    fig = px.bar(sector_df_mean, x=sector_df_mean.index, y=sector_df_mean[value], color=sector_df_mean.index, title='Средние доходности акций по отраслям за '+str(value)+' год')\n",
    "    return fig\n",
    "\n",
    "if __name__ == '__main__':\n",
    "    app.run_server() # NOT WORK!"
   ]
  },
  {
   "cell_type": "markdown",
   "metadata": {},
   "source": [
    "One of: ['area', 'bar', 'barpolar', 'box',\n",
    "                     'candlestick', 'carpet', 'choropleth',\n",
    "                     'choroplethmapbox', 'cone', 'contour',\n",
    "                     'contourcarpet', 'densitymapbox', 'funnel',\n",
    "                     'funnelarea', 'heatmap', 'heatmapgl',\n",
    "                     'histogram', 'histogram2d',\n",
    "                     'histogram2dcontour', 'image', 'indicator',\n",
    "                     'isosurface', 'mesh3d', 'ohlc', 'parcats',\n",
    "                     'parcoords', 'pie', 'pointcloud', 'sankey',\n",
    "                     'scatter', 'scatter3d', 'scattercarpet',\n",
    "                     'scattergeo', 'scattergl', 'scattermapbox',\n",
    "                     'scatterpolar', 'scatterpolargl',\n",
    "                     'scatterternary', 'splom', 'streamtube',\n",
    "                     'sunburst', 'surface', 'table', 'treemap',\n",
    "                     'violin', 'volume', 'waterfall']"
   ]
  }
 ],
 "metadata": {
  "kernelspec": {
   "display_name": "Python 3",
   "language": "python",
   "name": "python3"
  },
  "language_info": {
   "codemirror_mode": {
    "name": "ipython",
    "version": 3
   },
   "file_extension": ".py",
   "mimetype": "text/x-python",
   "name": "python",
   "nbconvert_exporter": "python",
   "pygments_lexer": "ipython3",
   "version": "3.7.3"
  }
 },
 "nbformat": 4,
 "nbformat_minor": 4
}